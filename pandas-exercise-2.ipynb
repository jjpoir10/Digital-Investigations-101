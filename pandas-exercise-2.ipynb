{
 "cells": [
  {
   "cell_type": "code",
   "execution_count": 2,
   "id": "72c1b8ec-febd-4e40-90d0-a7de1a2a3b0b",
   "metadata": {},
   "outputs": [],
   "source": [
    "import pandas as pd\n",
    "import altair as alt\n",
    "import datetime"
   ]
  },
  {
   "cell_type": "code",
   "execution_count": 3,
   "id": "c73ac447-4f19-4b6c-9c55-291d38f286bc",
   "metadata": {},
   "outputs": [],
   "source": [
    "restaurants = pd.read_csv(\"DOHMH_New_York_City_Restaurant_Inspection_Results.csv\")"
   ]
  },
  {
   "cell_type": "code",
   "execution_count": 8,
   "id": "1be4d4f1-92cc-4bd1-b8a3-f7fc8b29ab94",
   "metadata": {},
   "outputs": [
    {
     "data": {
      "text/plain": [
       "<pandas.core.groupby.generic.DataFrameGroupBy object at 0x00000229CFAE7370>"
      ]
     },
     "execution_count": 8,
     "metadata": {},
     "output_type": "execute_result"
    }
   ],
   "source": [
    "restaurants.groupby(\"BORO\")"
   ]
  },
  {
   "cell_type": "code",
   "execution_count": 14,
   "id": "87cc51b6-057c-4a6a-9f5c-b5a85f5726aa",
   "metadata": {},
   "outputs": [
    {
     "name": "stdout",
     "output_type": "stream",
     "text": [
      "0 90\n",
      "Bronx 29653\n",
      "Brooklyn 75282\n",
      "Manhattan 117027\n",
      "Queens 71440\n",
      "Staten Island 9664\n"
     ]
    }
   ],
   "source": [
    "for boro_name, rest_groups in restaurants.groupby(\"BORO\"):\n",
    "    print (boro_name, len(rest_groups[\"DBA\"]))"
   ]
  },
  {
   "cell_type": "code",
   "execution_count": 15,
   "id": "fa64c7cc-c827-4171-a8eb-4e6c11d54d5e",
   "metadata": {},
   "outputs": [],
   "source": [
    "new_df = restaurants[restaurants.BORO != \"0\"]"
   ]
  },
  {
   "cell_type": "code",
   "execution_count": 19,
   "id": "ee172faa-bf48-4b10-845b-fd8417dde4bc",
   "metadata": {},
   "outputs": [],
   "source": [
    "x = new_df.groupby(\"BORO\", dropna = False).size().to_frame(\"num_rest\").reset_index()"
   ]
  },
  {
   "cell_type": "code",
   "execution_count": 22,
   "id": "08c2fc50-6208-4be3-b547-c3dd06940ec3",
   "metadata": {},
   "outputs": [],
   "source": [
    "x = x.astype({\"BORO\" : str})"
   ]
  },
  {
   "cell_type": "code",
   "execution_count": 23,
   "id": "f485700e-d626-4eda-97c4-ace232f5fa00",
   "metadata": {},
   "outputs": [
    {
     "data": {
      "text/html": [
       "\n",
       "<div id=\"altair-viz-5a16894e7c0944599ffd629480144467\"></div>\n",
       "<script type=\"text/javascript\">\n",
       "  var VEGA_DEBUG = (typeof VEGA_DEBUG == \"undefined\") ? {} : VEGA_DEBUG;\n",
       "  (function(spec, embedOpt){\n",
       "    let outputDiv = document.currentScript.previousElementSibling;\n",
       "    if (outputDiv.id !== \"altair-viz-5a16894e7c0944599ffd629480144467\") {\n",
       "      outputDiv = document.getElementById(\"altair-viz-5a16894e7c0944599ffd629480144467\");\n",
       "    }\n",
       "    const paths = {\n",
       "      \"vega\": \"https://cdn.jsdelivr.net/npm//vega@5?noext\",\n",
       "      \"vega-lib\": \"https://cdn.jsdelivr.net/npm//vega-lib?noext\",\n",
       "      \"vega-lite\": \"https://cdn.jsdelivr.net/npm//vega-lite@4.17.0?noext\",\n",
       "      \"vega-embed\": \"https://cdn.jsdelivr.net/npm//vega-embed@6?noext\",\n",
       "    };\n",
       "\n",
       "    function maybeLoadScript(lib, version) {\n",
       "      var key = `${lib.replace(\"-\", \"\")}_version`;\n",
       "      return (VEGA_DEBUG[key] == version) ?\n",
       "        Promise.resolve(paths[lib]) :\n",
       "        new Promise(function(resolve, reject) {\n",
       "          var s = document.createElement('script');\n",
       "          document.getElementsByTagName(\"head\")[0].appendChild(s);\n",
       "          s.async = true;\n",
       "          s.onload = () => {\n",
       "            VEGA_DEBUG[key] = version;\n",
       "            return resolve(paths[lib]);\n",
       "          };\n",
       "          s.onerror = () => reject(`Error loading script: ${paths[lib]}`);\n",
       "          s.src = paths[lib];\n",
       "        });\n",
       "    }\n",
       "\n",
       "    function showError(err) {\n",
       "      outputDiv.innerHTML = `<div class=\"error\" style=\"color:red;\">${err}</div>`;\n",
       "      throw err;\n",
       "    }\n",
       "\n",
       "    function displayChart(vegaEmbed) {\n",
       "      vegaEmbed(outputDiv, spec, embedOpt)\n",
       "        .catch(err => showError(`Javascript Error: ${err.message}<br>This usually means there's a typo in your chart specification. See the javascript console for the full traceback.`));\n",
       "    }\n",
       "\n",
       "    if(typeof define === \"function\" && define.amd) {\n",
       "      requirejs.config({paths});\n",
       "      require([\"vega-embed\"], displayChart, err => showError(`Error loading script: ${err.message}`));\n",
       "    } else {\n",
       "      maybeLoadScript(\"vega\", \"5\")\n",
       "        .then(() => maybeLoadScript(\"vega-lite\", \"4.17.0\"))\n",
       "        .then(() => maybeLoadScript(\"vega-embed\", \"6\"))\n",
       "        .catch(showError)\n",
       "        .then(() => displayChart(vegaEmbed));\n",
       "    }\n",
       "  })({\"config\": {\"view\": {\"continuousWidth\": 400, \"continuousHeight\": 300}}, \"data\": {\"name\": \"data-3ebaa6814d33534bb6ed7550141eb747\"}, \"mark\": \"bar\", \"encoding\": {\"x\": {\"field\": \"BORO\", \"type\": \"nominal\"}, \"y\": {\"field\": \"num_rest\", \"type\": \"quantitative\"}}, \"$schema\": \"https://vega.github.io/schema/vega-lite/v4.17.0.json\", \"datasets\": {\"data-3ebaa6814d33534bb6ed7550141eb747\": [{\"BORO\": \"Bronx\", \"num_rest\": 29653}, {\"BORO\": \"Brooklyn\", \"num_rest\": 75282}, {\"BORO\": \"Manhattan\", \"num_rest\": 117027}, {\"BORO\": \"Queens\", \"num_rest\": 71440}, {\"BORO\": \"Staten Island\", \"num_rest\": 9664}]}}, {\"mode\": \"vega-lite\"});\n",
       "</script>"
      ],
      "text/plain": [
       "alt.Chart(...)"
      ]
     },
     "execution_count": 23,
     "metadata": {},
     "output_type": "execute_result"
    }
   ],
   "source": [
    "alt.Chart(x).mark_bar().encode(x = \"BORO\", y = \"num_rest\")"
   ]
  },
  {
   "cell_type": "code",
   "execution_count": 29,
   "id": "d07ed924-3318-46bc-b236-c6b7144a134c",
   "metadata": {},
   "outputs": [],
   "source": [
    "y = restaurants.groupby([\"BORO\", \"CUISINE DESCRIPTION\"], dropna = True).size().to_frame(\"rest_count\").reset_index()"
   ]
  },
  {
   "cell_type": "code",
   "execution_count": 34,
   "id": "6c2cae7d-c890-4b7f-88fc-f59245029e2b",
   "metadata": {},
   "outputs": [
    {
     "data": {
      "text/html": [
       "\n",
       "<div id=\"altair-viz-511946b9bf084cb8840f67ea7a097afe\"></div>\n",
       "<script type=\"text/javascript\">\n",
       "  var VEGA_DEBUG = (typeof VEGA_DEBUG == \"undefined\") ? {} : VEGA_DEBUG;\n",
       "  (function(spec, embedOpt){\n",
       "    let outputDiv = document.currentScript.previousElementSibling;\n",
       "    if (outputDiv.id !== \"altair-viz-511946b9bf084cb8840f67ea7a097afe\") {\n",
       "      outputDiv = document.getElementById(\"altair-viz-511946b9bf084cb8840f67ea7a097afe\");\n",
       "    }\n",
       "    const paths = {\n",
       "      \"vega\": \"https://cdn.jsdelivr.net/npm//vega@5?noext\",\n",
       "      \"vega-lib\": \"https://cdn.jsdelivr.net/npm//vega-lib?noext\",\n",
       "      \"vega-lite\": \"https://cdn.jsdelivr.net/npm//vega-lite@4.17.0?noext\",\n",
       "      \"vega-embed\": \"https://cdn.jsdelivr.net/npm//vega-embed@6?noext\",\n",
       "    };\n",
       "\n",
       "    function maybeLoadScript(lib, version) {\n",
       "      var key = `${lib.replace(\"-\", \"\")}_version`;\n",
       "      return (VEGA_DEBUG[key] == version) ?\n",
       "        Promise.resolve(paths[lib]) :\n",
       "        new Promise(function(resolve, reject) {\n",
       "          var s = document.createElement('script');\n",
       "          document.getElementsByTagName(\"head\")[0].appendChild(s);\n",
       "          s.async = true;\n",
       "          s.onload = () => {\n",
       "            VEGA_DEBUG[key] = version;\n",
       "            return resolve(paths[lib]);\n",
       "          };\n",
       "          s.onerror = () => reject(`Error loading script: ${paths[lib]}`);\n",
       "          s.src = paths[lib];\n",
       "        });\n",
       "    }\n",
       "\n",
       "    function showError(err) {\n",
       "      outputDiv.innerHTML = `<div class=\"error\" style=\"color:red;\">${err}</div>`;\n",
       "      throw err;\n",
       "    }\n",
       "\n",
       "    function displayChart(vegaEmbed) {\n",
       "      vegaEmbed(outputDiv, spec, embedOpt)\n",
       "        .catch(err => showError(`Javascript Error: ${err.message}<br>This usually means there's a typo in your chart specification. See the javascript console for the full traceback.`));\n",
       "    }\n",
       "\n",
       "    if(typeof define === \"function\" && define.amd) {\n",
       "      requirejs.config({paths});\n",
       "      require([\"vega-embed\"], displayChart, err => showError(`Error loading script: ${err.message}`));\n",
       "    } else {\n",
       "      maybeLoadScript(\"vega\", \"5\")\n",
       "        .then(() => maybeLoadScript(\"vega-lite\", \"4.17.0\"))\n",
       "        .then(() => maybeLoadScript(\"vega-embed\", \"6\"))\n",
       "        .catch(showError)\n",
       "        .then(() => displayChart(vegaEmbed));\n",
       "    }\n",
       "  })({\"config\": {\"view\": {\"continuousWidth\": 400, \"continuousHeight\": 300}}, \"data\": {\"name\": \"data-72fa4f183210bb212ff6aaaa28d4fa3e\"}, \"mark\": \"bar\", \"encoding\": {\"facet\": {\"field\": \"BORO\", \"type\": \"nominal\"}, \"x\": {\"field\": \"CUISINE DESCRIPTION\", \"sort\": \"-y\", \"type\": \"nominal\"}, \"y\": {\"aggregate\": \"sum\", \"field\": \"rest_count\", \"type\": \"quantitative\"}}, \"$schema\": \"https://vega.github.io/schema/vega-lite/v4.17.0.json\", \"datasets\": {\"data-72fa4f183210bb212ff6aaaa28d4fa3e\": [{\"BORO\": \"0\", \"CUISINE DESCRIPTION\": \"American\", \"rest_count\": 45}, {\"BORO\": \"0\", \"CUISINE DESCRIPTION\": \"Hawaiian\", \"rest_count\": 4}, {\"BORO\": \"0\", \"CUISINE DESCRIPTION\": \"Scandinavian\", \"rest_count\": 17}, {\"BORO\": \"Bronx\", \"CUISINE DESCRIPTION\": \"African\", \"rest_count\": 583}, {\"BORO\": \"Bronx\", \"CUISINE DESCRIPTION\": \"American\", \"rest_count\": 3537}, {\"BORO\": \"Bronx\", \"CUISINE DESCRIPTION\": \"Asian/Asian Fusion\", \"rest_count\": 128}, {\"BORO\": \"Bronx\", \"CUISINE DESCRIPTION\": \"Bagels/Pretzels\", \"rest_count\": 111}, {\"BORO\": \"Bronx\", \"CUISINE DESCRIPTION\": \"Bakery Products/Desserts\", \"rest_count\": 825}, {\"BORO\": \"Bronx\", \"CUISINE DESCRIPTION\": \"Bangladeshi\", \"rest_count\": 138}, {\"BORO\": \"Bronx\", \"CUISINE DESCRIPTION\": \"Barbecue\", \"rest_count\": 40}, {\"BORO\": \"Bronx\", \"CUISINE DESCRIPTION\": \"Bottled Beverages\", \"rest_count\": 82}, {\"BORO\": \"Bronx\", \"CUISINE DESCRIPTION\": \"Caribbean\", \"rest_count\": 1921}, {\"BORO\": \"Bronx\", \"CUISINE DESCRIPTION\": \"Chicken\", \"rest_count\": 1922}, {\"BORO\": \"Bronx\", \"CUISINE DESCRIPTION\": \"Chinese\", \"rest_count\": 3627}, {\"BORO\": \"Bronx\", \"CUISINE DESCRIPTION\": \"Chinese/Cuban\", \"rest_count\": 26}, {\"BORO\": \"Bronx\", \"CUISINE DESCRIPTION\": \"Coffee/Tea\", \"rest_count\": 513}, {\"BORO\": \"Bronx\", \"CUISINE DESCRIPTION\": \"Czech\", \"rest_count\": 6}, {\"BORO\": \"Bronx\", \"CUISINE DESCRIPTION\": \"Donuts\", \"rest_count\": 643}, {\"BORO\": \"Bronx\", \"CUISINE DESCRIPTION\": \"Eastern European\", \"rest_count\": 20}, {\"BORO\": \"Bronx\", \"CUISINE DESCRIPTION\": \"French\", \"rest_count\": 6}, {\"BORO\": \"Bronx\", \"CUISINE DESCRIPTION\": \"Frozen Desserts\", \"rest_count\": 131}, {\"BORO\": \"Bronx\", \"CUISINE DESCRIPTION\": \"Fusion\", \"rest_count\": 8}, {\"BORO\": \"Bronx\", \"CUISINE DESCRIPTION\": \"Greek\", \"rest_count\": 71}, {\"BORO\": \"Bronx\", \"CUISINE DESCRIPTION\": \"Hamburgers\", \"rest_count\": 924}, {\"BORO\": \"Bronx\", \"CUISINE DESCRIPTION\": \"Hotdogs\", \"rest_count\": 12}, {\"BORO\": \"Bronx\", \"CUISINE DESCRIPTION\": \"Hotdogs/Pretzels\", \"rest_count\": 33}, {\"BORO\": \"Bronx\", \"CUISINE DESCRIPTION\": \"Indian\", \"rest_count\": 81}, {\"BORO\": \"Bronx\", \"CUISINE DESCRIPTION\": \"Irish\", \"rest_count\": 150}, {\"BORO\": \"Bronx\", \"CUISINE DESCRIPTION\": \"Italian\", \"rest_count\": 701}, {\"BORO\": \"Bronx\", \"CUISINE DESCRIPTION\": \"Japanese\", \"rest_count\": 213}, {\"BORO\": \"Bronx\", \"CUISINE DESCRIPTION\": \"Jewish/Kosher\", \"rest_count\": 163}, {\"BORO\": \"Bronx\", \"CUISINE DESCRIPTION\": \"Juice, Smoothies, Fruit Salads\", \"rest_count\": 500}, {\"BORO\": \"Bronx\", \"CUISINE DESCRIPTION\": \"Latin American\", \"rest_count\": 3176}, {\"BORO\": \"Bronx\", \"CUISINE DESCRIPTION\": \"Mediterranean\", \"rest_count\": 110}, {\"BORO\": \"Bronx\", \"CUISINE DESCRIPTION\": \"Mexican\", \"rest_count\": 1816}, {\"BORO\": \"Bronx\", \"CUISINE DESCRIPTION\": \"Middle Eastern\", \"rest_count\": 131}, {\"BORO\": \"Bronx\", \"CUISINE DESCRIPTION\": \"Not Listed/Not Applicable\", \"rest_count\": 7}, {\"BORO\": \"Bronx\", \"CUISINE DESCRIPTION\": \"Other\", \"rest_count\": 132}, {\"BORO\": \"Bronx\", \"CUISINE DESCRIPTION\": \"Pakistani\", \"rest_count\": 3}, {\"BORO\": \"Bronx\", \"CUISINE DESCRIPTION\": \"Pancakes/Waffles\", \"rest_count\": 66}, {\"BORO\": \"Bronx\", \"CUISINE DESCRIPTION\": \"Peruvian\", \"rest_count\": 40}, {\"BORO\": \"Bronx\", \"CUISINE DESCRIPTION\": \"Pizza\", \"rest_count\": 2590}, {\"BORO\": \"Bronx\", \"CUISINE DESCRIPTION\": \"Sandwiches\", \"rest_count\": 702}, {\"BORO\": \"Bronx\", \"CUISINE DESCRIPTION\": \"Sandwiches/Salads/Mixed Buffet\", \"rest_count\": 77}, {\"BORO\": \"Bronx\", \"CUISINE DESCRIPTION\": \"Seafood\", \"rest_count\": 484}, {\"BORO\": \"Bronx\", \"CUISINE DESCRIPTION\": \"Soul Food\", \"rest_count\": 71}, {\"BORO\": \"Bronx\", \"CUISINE DESCRIPTION\": \"Soups/Salads/Sandwiches\", \"rest_count\": 48}, {\"BORO\": \"Bronx\", \"CUISINE DESCRIPTION\": \"Southeast Asian\", \"rest_count\": 55}, {\"BORO\": \"Bronx\", \"CUISINE DESCRIPTION\": \"Spanish\", \"rest_count\": 2122}, {\"BORO\": \"Bronx\", \"CUISINE DESCRIPTION\": \"Steakhouse\", \"rest_count\": 61}, {\"BORO\": \"Bronx\", \"CUISINE DESCRIPTION\": \"Tex-Mex\", \"rest_count\": 420}, {\"BORO\": \"Bronx\", \"CUISINE DESCRIPTION\": \"Thai\", \"rest_count\": 79}, {\"BORO\": \"Bronx\", \"CUISINE DESCRIPTION\": \"Vegetarian\", \"rest_count\": 5}, {\"BORO\": \"Brooklyn\", \"CUISINE DESCRIPTION\": \"Afghan\", \"rest_count\": 20}, {\"BORO\": \"Brooklyn\", \"CUISINE DESCRIPTION\": \"African\", \"rest_count\": 596}, {\"BORO\": \"Brooklyn\", \"CUISINE DESCRIPTION\": \"American\", \"rest_count\": 12242}, {\"BORO\": \"Brooklyn\", \"CUISINE DESCRIPTION\": \"Asian/Asian Fusion\", \"rest_count\": 1006}, {\"BORO\": \"Brooklyn\", \"CUISINE DESCRIPTION\": \"Australian\", \"rest_count\": 36}, {\"BORO\": \"Brooklyn\", \"CUISINE DESCRIPTION\": \"Bagels/Pretzels\", \"rest_count\": 659}, {\"BORO\": \"Brooklyn\", \"CUISINE DESCRIPTION\": \"Bakery Products/Desserts\", \"rest_count\": 2379}, {\"BORO\": \"Brooklyn\", \"CUISINE DESCRIPTION\": \"Bangladeshi\", \"rest_count\": 219}, {\"BORO\": \"Brooklyn\", \"CUISINE DESCRIPTION\": \"Barbecue\", \"rest_count\": 239}, {\"BORO\": \"Brooklyn\", \"CUISINE DESCRIPTION\": \"Bottled Beverages\", \"rest_count\": 232}, {\"BORO\": \"Brooklyn\", \"CUISINE DESCRIPTION\": \"Brazilian\", \"rest_count\": 82}, {\"BORO\": \"Brooklyn\", \"CUISINE DESCRIPTION\": \"Cajun\", \"rest_count\": 60}, {\"BORO\": \"Brooklyn\", \"CUISINE DESCRIPTION\": \"Californian\", \"rest_count\": 16}, {\"BORO\": \"Brooklyn\", \"CUISINE DESCRIPTION\": \"Caribbean\", \"rest_count\": 5130}, {\"BORO\": \"Brooklyn\", \"CUISINE DESCRIPTION\": \"Chicken\", \"rest_count\": 2160}, {\"BORO\": \"Brooklyn\", \"CUISINE DESCRIPTION\": \"Chinese\", \"rest_count\": 9017}, {\"BORO\": \"Brooklyn\", \"CUISINE DESCRIPTION\": \"Chinese/Cuban\", \"rest_count\": 51}, {\"BORO\": \"Brooklyn\", \"CUISINE DESCRIPTION\": \"Chinese/Japanese\", \"rest_count\": 244}, {\"BORO\": \"Brooklyn\", \"CUISINE DESCRIPTION\": \"Coffee/Tea\", \"rest_count\": 3946}, {\"BORO\": \"Brooklyn\", \"CUISINE DESCRIPTION\": \"Continental\", \"rest_count\": 65}, {\"BORO\": \"Brooklyn\", \"CUISINE DESCRIPTION\": \"Creole\", \"rest_count\": 336}, {\"BORO\": \"Brooklyn\", \"CUISINE DESCRIPTION\": \"Creole/Cajun\", \"rest_count\": 83}, {\"BORO\": \"Brooklyn\", \"CUISINE DESCRIPTION\": \"Donuts\", \"rest_count\": 1004}, {\"BORO\": \"Brooklyn\", \"CUISINE DESCRIPTION\": \"Eastern European\", \"rest_count\": 489}, {\"BORO\": \"Brooklyn\", \"CUISINE DESCRIPTION\": \"Egyptian\", \"rest_count\": 29}, {\"BORO\": \"Brooklyn\", \"CUISINE DESCRIPTION\": \"English\", \"rest_count\": 5}, {\"BORO\": \"Brooklyn\", \"CUISINE DESCRIPTION\": \"Ethiopian\", \"rest_count\": 40}, {\"BORO\": \"Brooklyn\", \"CUISINE DESCRIPTION\": \"Filipino\", \"rest_count\": 20}, {\"BORO\": \"Brooklyn\", \"CUISINE DESCRIPTION\": \"French\", \"rest_count\": 438}, {\"BORO\": \"Brooklyn\", \"CUISINE DESCRIPTION\": \"Frozen Desserts\", \"rest_count\": 678}, {\"BORO\": \"Brooklyn\", \"CUISINE DESCRIPTION\": \"Fusion\", \"rest_count\": 51}, {\"BORO\": \"Brooklyn\", \"CUISINE DESCRIPTION\": \"German\", \"rest_count\": 103}, {\"BORO\": \"Brooklyn\", \"CUISINE DESCRIPTION\": \"Greek\", \"rest_count\": 291}, {\"BORO\": \"Brooklyn\", \"CUISINE DESCRIPTION\": \"Hamburgers\", \"rest_count\": 827}, {\"BORO\": \"Brooklyn\", \"CUISINE DESCRIPTION\": \"Hawaiian\", \"rest_count\": 91}, {\"BORO\": \"Brooklyn\", \"CUISINE DESCRIPTION\": \"Hotdogs\", \"rest_count\": 90}, {\"BORO\": \"Brooklyn\", \"CUISINE DESCRIPTION\": \"Hotdogs/Pretzels\", \"rest_count\": 60}, {\"BORO\": \"Brooklyn\", \"CUISINE DESCRIPTION\": \"Indian\", \"rest_count\": 991}, {\"BORO\": \"Brooklyn\", \"CUISINE DESCRIPTION\": \"Indonesian\", \"rest_count\": 12}, {\"BORO\": \"Brooklyn\", \"CUISINE DESCRIPTION\": \"Irish\", \"rest_count\": 119}, {\"BORO\": \"Brooklyn\", \"CUISINE DESCRIPTION\": \"Italian\", \"rest_count\": 2044}, {\"BORO\": \"Brooklyn\", \"CUISINE DESCRIPTION\": \"Japanese\", \"rest_count\": 2416}, {\"BORO\": \"Brooklyn\", \"CUISINE DESCRIPTION\": \"Jewish/Kosher\", \"rest_count\": 2510}, {\"BORO\": \"Brooklyn\", \"CUISINE DESCRIPTION\": \"Juice, Smoothies, Fruit Salads\", \"rest_count\": 757}, {\"BORO\": \"Brooklyn\", \"CUISINE DESCRIPTION\": \"Korean\", \"rest_count\": 260}, {\"BORO\": \"Brooklyn\", \"CUISINE DESCRIPTION\": \"Latin American\", \"rest_count\": 1874}, {\"BORO\": \"Brooklyn\", \"CUISINE DESCRIPTION\": \"Mediterranean\", \"rest_count\": 826}, {\"BORO\": \"Brooklyn\", \"CUISINE DESCRIPTION\": \"Mexican\", \"rest_count\": 3459}, {\"BORO\": \"Brooklyn\", \"CUISINE DESCRIPTION\": \"Middle Eastern\", \"rest_count\": 1153}, {\"BORO\": \"Brooklyn\", \"CUISINE DESCRIPTION\": \"New American\", \"rest_count\": 11}, {\"BORO\": \"Brooklyn\", \"CUISINE DESCRIPTION\": \"Not Listed/Not Applicable\", \"rest_count\": 9}, {\"BORO\": \"Brooklyn\", \"CUISINE DESCRIPTION\": \"Nuts/Confectionary\", \"rest_count\": 17}, {\"BORO\": \"Brooklyn\", \"CUISINE DESCRIPTION\": \"Other\", \"rest_count\": 442}, {\"BORO\": \"Brooklyn\", \"CUISINE DESCRIPTION\": \"Pakistani\", \"rest_count\": 174}, {\"BORO\": \"Brooklyn\", \"CUISINE DESCRIPTION\": \"Pancakes/Waffles\", \"rest_count\": 80}, {\"BORO\": \"Brooklyn\", \"CUISINE DESCRIPTION\": \"Peruvian\", \"rest_count\": 131}, {\"BORO\": \"Brooklyn\", \"CUISINE DESCRIPTION\": \"Pizza\", \"rest_count\": 4550}, {\"BORO\": \"Brooklyn\", \"CUISINE DESCRIPTION\": \"Polish\", \"rest_count\": 149}, {\"BORO\": \"Brooklyn\", \"CUISINE DESCRIPTION\": \"Portuguese\", \"rest_count\": 32}, {\"BORO\": \"Brooklyn\", \"CUISINE DESCRIPTION\": \"Russian\", \"rest_count\": 738}, {\"BORO\": \"Brooklyn\", \"CUISINE DESCRIPTION\": \"Salads\", \"rest_count\": 154}, {\"BORO\": \"Brooklyn\", \"CUISINE DESCRIPTION\": \"Sandwiches\", \"rest_count\": 1097}, {\"BORO\": \"Brooklyn\", \"CUISINE DESCRIPTION\": \"Sandwiches/Salads/Mixed Buffet\", \"rest_count\": 177}, {\"BORO\": \"Brooklyn\", \"CUISINE DESCRIPTION\": \"Scandinavian\", \"rest_count\": 11}, {\"BORO\": \"Brooklyn\", \"CUISINE DESCRIPTION\": \"Seafood\", \"rest_count\": 763}, {\"BORO\": \"Brooklyn\", \"CUISINE DESCRIPTION\": \"Soul Food\", \"rest_count\": 281}, {\"BORO\": \"Brooklyn\", \"CUISINE DESCRIPTION\": \"Soups\", \"rest_count\": 26}, {\"BORO\": \"Brooklyn\", \"CUISINE DESCRIPTION\": \"Soups/Salads/Sandwiches\", \"rest_count\": 65}, {\"BORO\": \"Brooklyn\", \"CUISINE DESCRIPTION\": \"Southeast Asian\", \"rest_count\": 492}, {\"BORO\": \"Brooklyn\", \"CUISINE DESCRIPTION\": \"Spanish\", \"rest_count\": 2177}, {\"BORO\": \"Brooklyn\", \"CUISINE DESCRIPTION\": \"Steakhouse\", \"rest_count\": 101}, {\"BORO\": \"Brooklyn\", \"CUISINE DESCRIPTION\": \"Tapas\", \"rest_count\": 88}, {\"BORO\": \"Brooklyn\", \"CUISINE DESCRIPTION\": \"Tex-Mex\", \"rest_count\": 1020}, {\"BORO\": \"Brooklyn\", \"CUISINE DESCRIPTION\": \"Thai\", \"rest_count\": 1204}, {\"BORO\": \"Brooklyn\", \"CUISINE DESCRIPTION\": \"Turkish\", \"rest_count\": 326}, {\"BORO\": \"Brooklyn\", \"CUISINE DESCRIPTION\": \"Vegan\", \"rest_count\": 178}, {\"BORO\": \"Brooklyn\", \"CUISINE DESCRIPTION\": \"Vegetarian\", \"rest_count\": 337}, {\"BORO\": \"Manhattan\", \"CUISINE DESCRIPTION\": \"Afghan\", \"rest_count\": 23}, {\"BORO\": \"Manhattan\", \"CUISINE DESCRIPTION\": \"African\", \"rest_count\": 580}, {\"BORO\": \"Manhattan\", \"CUISINE DESCRIPTION\": \"American\", \"rest_count\": 28765}, {\"BORO\": \"Manhattan\", \"CUISINE DESCRIPTION\": \"Armenian\", \"rest_count\": 3}, {\"BORO\": \"Manhattan\", \"CUISINE DESCRIPTION\": \"Asian/Asian Fusion\", \"rest_count\": 2334}, {\"BORO\": \"Manhattan\", \"CUISINE DESCRIPTION\": \"Australian\", \"rest_count\": 303}, {\"BORO\": \"Manhattan\", \"CUISINE DESCRIPTION\": \"Bagels/Pretzels\", \"rest_count\": 804}, {\"BORO\": \"Manhattan\", \"CUISINE DESCRIPTION\": \"Bakery Products/Desserts\", \"rest_count\": 2776}, {\"BORO\": \"Manhattan\", \"CUISINE DESCRIPTION\": \"Bangladeshi\", \"rest_count\": 48}, {\"BORO\": \"Manhattan\", \"CUISINE DESCRIPTION\": \"Barbecue\", \"rest_count\": 375}, {\"BORO\": \"Manhattan\", \"CUISINE DESCRIPTION\": \"Basque\", \"rest_count\": 10}, {\"BORO\": \"Manhattan\", \"CUISINE DESCRIPTION\": \"Bottled Beverages\", \"rest_count\": 329}, {\"BORO\": \"Manhattan\", \"CUISINE DESCRIPTION\": \"Brazilian\", \"rest_count\": 143}, {\"BORO\": \"Manhattan\", \"CUISINE DESCRIPTION\": \"Californian\", \"rest_count\": 61}, {\"BORO\": \"Manhattan\", \"CUISINE DESCRIPTION\": \"Caribbean\", \"rest_count\": 724}, {\"BORO\": \"Manhattan\", \"CUISINE DESCRIPTION\": \"Chicken\", \"rest_count\": 1597}, {\"BORO\": \"Manhattan\", \"CUISINE DESCRIPTION\": \"Chinese\", \"rest_count\": 7770}, {\"BORO\": \"Manhattan\", \"CUISINE DESCRIPTION\": \"Chinese/Cuban\", \"rest_count\": 156}, {\"BORO\": \"Manhattan\", \"CUISINE DESCRIPTION\": \"Chinese/Japanese\", \"rest_count\": 355}, {\"BORO\": \"Manhattan\", \"CUISINE DESCRIPTION\": \"Coffee/Tea\", \"rest_count\": 7530}, {\"BORO\": \"Manhattan\", \"CUISINE DESCRIPTION\": \"Continental\", \"rest_count\": 248}, {\"BORO\": \"Manhattan\", \"CUISINE DESCRIPTION\": \"Creole\", \"rest_count\": 15}, {\"BORO\": \"Manhattan\", \"CUISINE DESCRIPTION\": \"Creole/Cajun\", \"rest_count\": 5}, {\"BORO\": \"Manhattan\", \"CUISINE DESCRIPTION\": \"Donuts\", \"rest_count\": 1149}, {\"BORO\": \"Manhattan\", \"CUISINE DESCRIPTION\": \"Eastern European\", \"rest_count\": 300}, {\"BORO\": \"Manhattan\", \"CUISINE DESCRIPTION\": \"Egyptian\", \"rest_count\": 34}, {\"BORO\": \"Manhattan\", \"CUISINE DESCRIPTION\": \"English\", \"rest_count\": 201}, {\"BORO\": \"Manhattan\", \"CUISINE DESCRIPTION\": \"Ethiopian\", \"rest_count\": 152}, {\"BORO\": \"Manhattan\", \"CUISINE DESCRIPTION\": \"Filipino\", \"rest_count\": 93}, {\"BORO\": \"Manhattan\", \"CUISINE DESCRIPTION\": \"French\", \"rest_count\": 2602}, {\"BORO\": \"Manhattan\", \"CUISINE DESCRIPTION\": \"Frozen Desserts\", \"rest_count\": 906}, {\"BORO\": \"Manhattan\", \"CUISINE DESCRIPTION\": \"Fruits/Vegetables\", \"rest_count\": 36}, {\"BORO\": \"Manhattan\", \"CUISINE DESCRIPTION\": \"Fusion\", \"rest_count\": 9}, {\"BORO\": \"Manhattan\", \"CUISINE DESCRIPTION\": \"German\", \"rest_count\": 142}, {\"BORO\": \"Manhattan\", \"CUISINE DESCRIPTION\": \"Greek\", \"rest_count\": 600}, {\"BORO\": \"Manhattan\", \"CUISINE DESCRIPTION\": \"Hamburgers\", \"rest_count\": 1211}, {\"BORO\": \"Manhattan\", \"CUISINE DESCRIPTION\": \"Hawaiian\", \"rest_count\": 380}, {\"BORO\": \"Manhattan\", \"CUISINE DESCRIPTION\": \"Hotdogs\", \"rest_count\": 85}, {\"BORO\": \"Manhattan\", \"CUISINE DESCRIPTION\": \"Hotdogs/Pretzels\", \"rest_count\": 84}, {\"BORO\": \"Manhattan\", \"CUISINE DESCRIPTION\": \"Indian\", \"rest_count\": 2348}, {\"BORO\": \"Manhattan\", \"CUISINE DESCRIPTION\": \"Indonesian\", \"rest_count\": 11}, {\"BORO\": \"Manhattan\", \"CUISINE DESCRIPTION\": \"Iranian\", \"rest_count\": 13}, {\"BORO\": \"Manhattan\", \"CUISINE DESCRIPTION\": \"Irish\", \"rest_count\": 1449}, {\"BORO\": \"Manhattan\", \"CUISINE DESCRIPTION\": \"Italian\", \"rest_count\": 7391}, {\"BORO\": \"Manhattan\", \"CUISINE DESCRIPTION\": \"Japanese\", \"rest_count\": 6256}, {\"BORO\": \"Manhattan\", \"CUISINE DESCRIPTION\": \"Jewish/Kosher\", \"rest_count\": 905}, {\"BORO\": \"Manhattan\", \"CUISINE DESCRIPTION\": \"Juice, Smoothies, Fruit Salads\", \"rest_count\": 1708}, {\"BORO\": \"Manhattan\", \"CUISINE DESCRIPTION\": \"Korean\", \"rest_count\": 1718}, {\"BORO\": \"Manhattan\", \"CUISINE DESCRIPTION\": \"Latin American\", \"rest_count\": 2953}, {\"BORO\": \"Manhattan\", \"CUISINE DESCRIPTION\": \"Lebanese\", \"rest_count\": 8}, {\"BORO\": \"Manhattan\", \"CUISINE DESCRIPTION\": \"Mediterranean\", \"rest_count\": 1723}, {\"BORO\": \"Manhattan\", \"CUISINE DESCRIPTION\": \"Mexican\", \"rest_count\": 3355}, {\"BORO\": \"Manhattan\", \"CUISINE DESCRIPTION\": \"Middle Eastern\", \"rest_count\": 594}, {\"BORO\": \"Manhattan\", \"CUISINE DESCRIPTION\": \"Moroccan\", \"rest_count\": 143}, {\"BORO\": \"Manhattan\", \"CUISINE DESCRIPTION\": \"New American\", \"rest_count\": 37}, {\"BORO\": \"Manhattan\", \"CUISINE DESCRIPTION\": \"New French\", \"rest_count\": 3}, {\"BORO\": \"Manhattan\", \"CUISINE DESCRIPTION\": \"Not Listed/Not Applicable\", \"rest_count\": 15}, {\"BORO\": \"Manhattan\", \"CUISINE DESCRIPTION\": \"Nuts/Confectionary\", \"rest_count\": 26}, {\"BORO\": \"Manhattan\", \"CUISINE DESCRIPTION\": \"Other\", \"rest_count\": 687}, {\"BORO\": \"Manhattan\", \"CUISINE DESCRIPTION\": \"Pakistani\", \"rest_count\": 72}, {\"BORO\": \"Manhattan\", \"CUISINE DESCRIPTION\": \"Pancakes/Waffles\", \"rest_count\": 41}, {\"BORO\": \"Manhattan\", \"CUISINE DESCRIPTION\": \"Peruvian\", \"rest_count\": 236}, {\"BORO\": \"Manhattan\", \"CUISINE DESCRIPTION\": \"Pizza\", \"rest_count\": 5755}, {\"BORO\": \"Manhattan\", \"CUISINE DESCRIPTION\": \"Polish\", \"rest_count\": 50}, {\"BORO\": \"Manhattan\", \"CUISINE DESCRIPTION\": \"Portuguese\", \"rest_count\": 45}, {\"BORO\": \"Manhattan\", \"CUISINE DESCRIPTION\": \"Russian\", \"rest_count\": 107}, {\"BORO\": \"Manhattan\", \"CUISINE DESCRIPTION\": \"Salads\", \"rest_count\": 662}, {\"BORO\": \"Manhattan\", \"CUISINE DESCRIPTION\": \"Sandwiches\", \"rest_count\": 3111}, {\"BORO\": \"Manhattan\", \"CUISINE DESCRIPTION\": \"Sandwiches/Salads/Mixed Buffet\", \"rest_count\": 692}, {\"BORO\": \"Manhattan\", \"CUISINE DESCRIPTION\": \"Scandinavian\", \"rest_count\": 58}, {\"BORO\": \"Manhattan\", \"CUISINE DESCRIPTION\": \"Seafood\", \"rest_count\": 1218}, {\"BORO\": \"Manhattan\", \"CUISINE DESCRIPTION\": \"Soul Food\", \"rest_count\": 189}, {\"BORO\": \"Manhattan\", \"CUISINE DESCRIPTION\": \"Soups\", \"rest_count\": 73}, {\"BORO\": \"Manhattan\", \"CUISINE DESCRIPTION\": \"Soups/Salads/Sandwiches\", \"rest_count\": 522}, {\"BORO\": \"Manhattan\", \"CUISINE DESCRIPTION\": \"Southeast Asian\", \"rest_count\": 621}, {\"BORO\": \"Manhattan\", \"CUISINE DESCRIPTION\": \"Southwestern\", \"rest_count\": 22}, {\"BORO\": \"Manhattan\", \"CUISINE DESCRIPTION\": \"Spanish\", \"rest_count\": 1768}, {\"BORO\": \"Manhattan\", \"CUISINE DESCRIPTION\": \"Steakhouse\", \"rest_count\": 654}, {\"BORO\": \"Manhattan\", \"CUISINE DESCRIPTION\": \"Tapas\", \"rest_count\": 311}, {\"BORO\": \"Manhattan\", \"CUISINE DESCRIPTION\": \"Tex-Mex\", \"rest_count\": 1236}, {\"BORO\": \"Manhattan\", \"CUISINE DESCRIPTION\": \"Thai\", \"rest_count\": 2284}, {\"BORO\": \"Manhattan\", \"CUISINE DESCRIPTION\": \"Turkish\", \"rest_count\": 507}, {\"BORO\": \"Manhattan\", \"CUISINE DESCRIPTION\": \"Vegan\", \"rest_count\": 319}, {\"BORO\": \"Manhattan\", \"CUISINE DESCRIPTION\": \"Vegetarian\", \"rest_count\": 576}, {\"BORO\": \"Queens\", \"CUISINE DESCRIPTION\": \"Afghan\", \"rest_count\": 116}, {\"BORO\": \"Queens\", \"CUISINE DESCRIPTION\": \"African\", \"rest_count\": 63}, {\"BORO\": \"Queens\", \"CUISINE DESCRIPTION\": \"American\", \"rest_count\": 9567}, {\"BORO\": \"Queens\", \"CUISINE DESCRIPTION\": \"Asian/Asian Fusion\", \"rest_count\": 1562}, {\"BORO\": \"Queens\", \"CUISINE DESCRIPTION\": \"Australian\", \"rest_count\": 16}, {\"BORO\": \"Queens\", \"CUISINE DESCRIPTION\": \"Bagels/Pretzels\", \"rest_count\": 494}, {\"BORO\": \"Queens\", \"CUISINE DESCRIPTION\": \"Bakery Products/Desserts\", \"rest_count\": 2781}, {\"BORO\": \"Queens\", \"CUISINE DESCRIPTION\": \"Bangladeshi\", \"rest_count\": 631}, {\"BORO\": \"Queens\", \"CUISINE DESCRIPTION\": \"Barbecue\", \"rest_count\": 176}, {\"BORO\": \"Queens\", \"CUISINE DESCRIPTION\": \"Bottled Beverages\", \"rest_count\": 413}, {\"BORO\": \"Queens\", \"CUISINE DESCRIPTION\": \"Brazilian\", \"rest_count\": 107}, {\"BORO\": \"Queens\", \"CUISINE DESCRIPTION\": \"Cajun\", \"rest_count\": 3}, {\"BORO\": \"Queens\", \"CUISINE DESCRIPTION\": \"Caribbean\", \"rest_count\": 3081}, {\"BORO\": \"Queens\", \"CUISINE DESCRIPTION\": \"Chicken\", \"rest_count\": 1586}, {\"BORO\": \"Queens\", \"CUISINE DESCRIPTION\": \"Chilean\", \"rest_count\": 24}, {\"BORO\": \"Queens\", \"CUISINE DESCRIPTION\": \"Chinese\", \"rest_count\": 10314}, {\"BORO\": \"Queens\", \"CUISINE DESCRIPTION\": \"Chinese/Cuban\", \"rest_count\": 5}, {\"BORO\": \"Queens\", \"CUISINE DESCRIPTION\": \"Chinese/Japanese\", \"rest_count\": 107}, {\"BORO\": \"Queens\", \"CUISINE DESCRIPTION\": \"Coffee/Tea\", \"rest_count\": 2340}, {\"BORO\": \"Queens\", \"CUISINE DESCRIPTION\": \"Continental\", \"rest_count\": 60}, {\"BORO\": \"Queens\", \"CUISINE DESCRIPTION\": \"Creole\", \"rest_count\": 94}, {\"BORO\": \"Queens\", \"CUISINE DESCRIPTION\": \"Creole/Cajun\", \"rest_count\": 33}, {\"BORO\": \"Queens\", \"CUISINE DESCRIPTION\": \"Czech\", \"rest_count\": 12}, {\"BORO\": \"Queens\", \"CUISINE DESCRIPTION\": \"Donuts\", \"rest_count\": 1145}, {\"BORO\": \"Queens\", \"CUISINE DESCRIPTION\": \"Eastern European\", \"rest_count\": 181}, {\"BORO\": \"Queens\", \"CUISINE DESCRIPTION\": \"Egyptian\", \"rest_count\": 37}, {\"BORO\": \"Queens\", \"CUISINE DESCRIPTION\": \"English\", \"rest_count\": 20}, {\"BORO\": \"Queens\", \"CUISINE DESCRIPTION\": \"Filipino\", \"rest_count\": 420}, {\"BORO\": \"Queens\", \"CUISINE DESCRIPTION\": \"French\", \"rest_count\": 199}, {\"BORO\": \"Queens\", \"CUISINE DESCRIPTION\": \"Frozen Desserts\", \"rest_count\": 584}, {\"BORO\": \"Queens\", \"CUISINE DESCRIPTION\": \"Fruits/Vegetables\", \"rest_count\": 8}, {\"BORO\": \"Queens\", \"CUISINE DESCRIPTION\": \"German\", \"rest_count\": 111}, {\"BORO\": \"Queens\", \"CUISINE DESCRIPTION\": \"Greek\", \"rest_count\": 739}, {\"BORO\": \"Queens\", \"CUISINE DESCRIPTION\": \"Hamburgers\", \"rest_count\": 1002}, {\"BORO\": \"Queens\", \"CUISINE DESCRIPTION\": \"Hawaiian\", \"rest_count\": 46}, {\"BORO\": \"Queens\", \"CUISINE DESCRIPTION\": \"Hotdogs\", \"rest_count\": 29}, {\"BORO\": \"Queens\", \"CUISINE DESCRIPTION\": \"Hotdogs/Pretzels\", \"rest_count\": 23}, {\"BORO\": \"Queens\", \"CUISINE DESCRIPTION\": \"Indian\", \"rest_count\": 1812}, {\"BORO\": \"Queens\", \"CUISINE DESCRIPTION\": \"Indonesian\", \"rest_count\": 75}, {\"BORO\": \"Queens\", \"CUISINE DESCRIPTION\": \"Iranian\", \"rest_count\": 16}, {\"BORO\": \"Queens\", \"CUISINE DESCRIPTION\": \"Irish\", \"rest_count\": 529}, {\"BORO\": \"Queens\", \"CUISINE DESCRIPTION\": \"Italian\", \"rest_count\": 1304}, {\"BORO\": \"Queens\", \"CUISINE DESCRIPTION\": \"Japanese\", \"rest_count\": 2100}, {\"BORO\": \"Queens\", \"CUISINE DESCRIPTION\": \"Jewish/Kosher\", \"rest_count\": 751}, {\"BORO\": \"Queens\", \"CUISINE DESCRIPTION\": \"Juice, Smoothies, Fruit Salads\", \"rest_count\": 789}, {\"BORO\": \"Queens\", \"CUISINE DESCRIPTION\": \"Korean\", \"rest_count\": 2372}, {\"BORO\": \"Queens\", \"CUISINE DESCRIPTION\": \"Latin American\", \"rest_count\": 4961}, {\"BORO\": \"Queens\", \"CUISINE DESCRIPTION\": \"Mediterranean\", \"rest_count\": 653}, {\"BORO\": \"Queens\", \"CUISINE DESCRIPTION\": \"Mexican\", \"rest_count\": 2522}, {\"BORO\": \"Queens\", \"CUISINE DESCRIPTION\": \"Middle Eastern\", \"rest_count\": 366}, {\"BORO\": \"Queens\", \"CUISINE DESCRIPTION\": \"Moroccan\", \"rest_count\": 20}, {\"BORO\": \"Queens\", \"CUISINE DESCRIPTION\": \"Not Listed/Not Applicable\", \"rest_count\": 16}, {\"BORO\": \"Queens\", \"CUISINE DESCRIPTION\": \"Other\", \"rest_count\": 356}, {\"BORO\": \"Queens\", \"CUISINE DESCRIPTION\": \"Pakistani\", \"rest_count\": 163}, {\"BORO\": \"Queens\", \"CUISINE DESCRIPTION\": \"Pancakes/Waffles\", \"rest_count\": 103}, {\"BORO\": \"Queens\", \"CUISINE DESCRIPTION\": \"Peruvian\", \"rest_count\": 1023}, {\"BORO\": \"Queens\", \"CUISINE DESCRIPTION\": \"Pizza\", \"rest_count\": 4101}, {\"BORO\": \"Queens\", \"CUISINE DESCRIPTION\": \"Polish\", \"rest_count\": 24}, {\"BORO\": \"Queens\", \"CUISINE DESCRIPTION\": \"Portuguese\", \"rest_count\": 50}, {\"BORO\": \"Queens\", \"CUISINE DESCRIPTION\": \"Russian\", \"rest_count\": 35}, {\"BORO\": \"Queens\", \"CUISINE DESCRIPTION\": \"Salads\", \"rest_count\": 17}, {\"BORO\": \"Queens\", \"CUISINE DESCRIPTION\": \"Sandwiches\", \"rest_count\": 1741}, {\"BORO\": \"Queens\", \"CUISINE DESCRIPTION\": \"Sandwiches/Salads/Mixed Buffet\", \"rest_count\": 253}, {\"BORO\": \"Queens\", \"CUISINE DESCRIPTION\": \"Scandinavian\", \"rest_count\": 6}, {\"BORO\": \"Queens\", \"CUISINE DESCRIPTION\": \"Seafood\", \"rest_count\": 512}, {\"BORO\": \"Queens\", \"CUISINE DESCRIPTION\": \"Soul Food\", \"rest_count\": 113}, {\"BORO\": \"Queens\", \"CUISINE DESCRIPTION\": \"Soups/Salads/Sandwiches\", \"rest_count\": 50}, {\"BORO\": \"Queens\", \"CUISINE DESCRIPTION\": \"Southeast Asian\", \"rest_count\": 224}, {\"BORO\": \"Queens\", \"CUISINE DESCRIPTION\": \"Southwestern\", \"rest_count\": 63}, {\"BORO\": \"Queens\", \"CUISINE DESCRIPTION\": \"Spanish\", \"rest_count\": 3126}, {\"BORO\": \"Queens\", \"CUISINE DESCRIPTION\": \"Steakhouse\", \"rest_count\": 173}, {\"BORO\": \"Queens\", \"CUISINE DESCRIPTION\": \"Tapas\", \"rest_count\": 76}, {\"BORO\": \"Queens\", \"CUISINE DESCRIPTION\": \"Tex-Mex\", \"rest_count\": 719}, {\"BORO\": \"Queens\", \"CUISINE DESCRIPTION\": \"Thai\", \"rest_count\": 847}, {\"BORO\": \"Queens\", \"CUISINE DESCRIPTION\": \"Turkish\", \"rest_count\": 134}, {\"BORO\": \"Queens\", \"CUISINE DESCRIPTION\": \"Vegan\", \"rest_count\": 24}, {\"BORO\": \"Queens\", \"CUISINE DESCRIPTION\": \"Vegetarian\", \"rest_count\": 128}, {\"BORO\": \"Staten Island\", \"CUISINE DESCRIPTION\": \"African\", \"rest_count\": 14}, {\"BORO\": \"Staten Island\", \"CUISINE DESCRIPTION\": \"American\", \"rest_count\": 1851}, {\"BORO\": \"Staten Island\", \"CUISINE DESCRIPTION\": \"Asian/Asian Fusion\", \"rest_count\": 146}, {\"BORO\": \"Staten Island\", \"CUISINE DESCRIPTION\": \"Bagels/Pretzels\", \"rest_count\": 72}, {\"BORO\": \"Staten Island\", \"CUISINE DESCRIPTION\": \"Bakery Products/Desserts\", \"rest_count\": 216}, {\"BORO\": \"Staten Island\", \"CUISINE DESCRIPTION\": \"Barbecue\", \"rest_count\": 97}, {\"BORO\": \"Staten Island\", \"CUISINE DESCRIPTION\": \"Bottled Beverages\", \"rest_count\": 24}, {\"BORO\": \"Staten Island\", \"CUISINE DESCRIPTION\": \"Cajun\", \"rest_count\": 10}, {\"BORO\": \"Staten Island\", \"CUISINE DESCRIPTION\": \"Caribbean\", \"rest_count\": 55}, {\"BORO\": \"Staten Island\", \"CUISINE DESCRIPTION\": \"Chicken\", \"rest_count\": 188}, {\"BORO\": \"Staten Island\", \"CUISINE DESCRIPTION\": \"Chinese\", \"rest_count\": 956}, {\"BORO\": \"Staten Island\", \"CUISINE DESCRIPTION\": \"Chinese/Japanese\", \"rest_count\": 6}, {\"BORO\": \"Staten Island\", \"CUISINE DESCRIPTION\": \"Coffee/Tea\", \"rest_count\": 207}, {\"BORO\": \"Staten Island\", \"CUISINE DESCRIPTION\": \"Continental\", \"rest_count\": 7}, {\"BORO\": \"Staten Island\", \"CUISINE DESCRIPTION\": \"Donuts\", \"rest_count\": 281}, {\"BORO\": \"Staten Island\", \"CUISINE DESCRIPTION\": \"Eastern European\", \"rest_count\": 31}, {\"BORO\": \"Staten Island\", \"CUISINE DESCRIPTION\": \"Filipino\", \"rest_count\": 30}, {\"BORO\": \"Staten Island\", \"CUISINE DESCRIPTION\": \"Frozen Desserts\", \"rest_count\": 180}, {\"BORO\": \"Staten Island\", \"CUISINE DESCRIPTION\": \"German\", \"rest_count\": 51}, {\"BORO\": \"Staten Island\", \"CUISINE DESCRIPTION\": \"Greek\", \"rest_count\": 67}, {\"BORO\": \"Staten Island\", \"CUISINE DESCRIPTION\": \"Hamburgers\", \"rest_count\": 228}, {\"BORO\": \"Staten Island\", \"CUISINE DESCRIPTION\": \"Hotdogs/Pretzels\", \"rest_count\": 4}, {\"BORO\": \"Staten Island\", \"CUISINE DESCRIPTION\": \"Indian\", \"rest_count\": 133}, {\"BORO\": \"Staten Island\", \"CUISINE DESCRIPTION\": \"Irish\", \"rest_count\": 21}, {\"BORO\": \"Staten Island\", \"CUISINE DESCRIPTION\": \"Italian\", \"rest_count\": 955}, {\"BORO\": \"Staten Island\", \"CUISINE DESCRIPTION\": \"Japanese\", \"rest_count\": 529}, {\"BORO\": \"Staten Island\", \"CUISINE DESCRIPTION\": \"Jewish/Kosher\", \"rest_count\": 24}, {\"BORO\": \"Staten Island\", \"CUISINE DESCRIPTION\": \"Juice, Smoothies, Fruit Salads\", \"rest_count\": 95}, {\"BORO\": \"Staten Island\", \"CUISINE DESCRIPTION\": \"Latin American\", \"rest_count\": 114}, {\"BORO\": \"Staten Island\", \"CUISINE DESCRIPTION\": \"Mediterranean\", \"rest_count\": 100}, {\"BORO\": \"Staten Island\", \"CUISINE DESCRIPTION\": \"Mexican\", \"rest_count\": 590}, {\"BORO\": \"Staten Island\", \"CUISINE DESCRIPTION\": \"Middle Eastern\", \"rest_count\": 36}, {\"BORO\": \"Staten Island\", \"CUISINE DESCRIPTION\": \"Other\", \"rest_count\": 72}, {\"BORO\": \"Staten Island\", \"CUISINE DESCRIPTION\": \"Pancakes/Waffles\", \"rest_count\": 9}, {\"BORO\": \"Staten Island\", \"CUISINE DESCRIPTION\": \"Peruvian\", \"rest_count\": 55}, {\"BORO\": \"Staten Island\", \"CUISINE DESCRIPTION\": \"Pizza\", \"rest_count\": 1218}, {\"BORO\": \"Staten Island\", \"CUISINE DESCRIPTION\": \"Polish\", \"rest_count\": 43}, {\"BORO\": \"Staten Island\", \"CUISINE DESCRIPTION\": \"Russian\", \"rest_count\": 32}, {\"BORO\": \"Staten Island\", \"CUISINE DESCRIPTION\": \"Sandwiches\", \"rest_count\": 273}, {\"BORO\": \"Staten Island\", \"CUISINE DESCRIPTION\": \"Sandwiches/Salads/Mixed Buffet\", \"rest_count\": 9}, {\"BORO\": \"Staten Island\", \"CUISINE DESCRIPTION\": \"Seafood\", \"rest_count\": 51}, {\"BORO\": \"Staten Island\", \"CUISINE DESCRIPTION\": \"Soul Food\", \"rest_count\": 29}, {\"BORO\": \"Staten Island\", \"CUISINE DESCRIPTION\": \"Soups/Salads/Sandwiches\", \"rest_count\": 30}, {\"BORO\": \"Staten Island\", \"CUISINE DESCRIPTION\": \"Southeast Asian\", \"rest_count\": 14}, {\"BORO\": \"Staten Island\", \"CUISINE DESCRIPTION\": \"Spanish\", \"rest_count\": 142}, {\"BORO\": \"Staten Island\", \"CUISINE DESCRIPTION\": \"Steakhouse\", \"rest_count\": 21}, {\"BORO\": \"Staten Island\", \"CUISINE DESCRIPTION\": \"Tapas\", \"rest_count\": 9}, {\"BORO\": \"Staten Island\", \"CUISINE DESCRIPTION\": \"Tex-Mex\", \"rest_count\": 103}, {\"BORO\": \"Staten Island\", \"CUISINE DESCRIPTION\": \"Thai\", \"rest_count\": 62}, {\"BORO\": \"Staten Island\", \"CUISINE DESCRIPTION\": \"Turkish\", \"rest_count\": 23}, {\"BORO\": \"Staten Island\", \"CUISINE DESCRIPTION\": \"Vegetarian\", \"rest_count\": 9}]}}, {\"mode\": \"vega-lite\"});\n",
       "</script>"
      ],
      "text/plain": [
       "alt.Chart(...)"
      ]
     },
     "execution_count": 34,
     "metadata": {},
     "output_type": "execute_result"
    }
   ],
   "source": [
    "alt.Chart(y).mark_bar().encode(x = alt.X(\"CUISINE DESCRIPTION\", sort =\"-y\") , y = \"sum(rest_count)\", facet= \"BORO\")"
   ]
  },
  {
   "cell_type": "code",
   "execution_count": null,
   "id": "06d48462-c1d1-4fbc-8995-b27cf742fe27",
   "metadata": {},
   "outputs": [],
   "source": []
  }
 ],
 "metadata": {
  "kernelspec": {
   "display_name": "Python 3 (ipykernel)",
   "language": "python",
   "name": "python3"
  },
  "language_info": {
   "codemirror_mode": {
    "name": "ipython",
    "version": 3
   },
   "file_extension": ".py",
   "mimetype": "text/x-python",
   "name": "python",
   "nbconvert_exporter": "python",
   "pygments_lexer": "ipython3",
   "version": "3.10.1"
  }
 },
 "nbformat": 4,
 "nbformat_minor": 5
}
