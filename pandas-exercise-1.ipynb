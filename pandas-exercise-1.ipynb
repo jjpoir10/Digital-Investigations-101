{
 "cells": [
  {
   "cell_type": "code",
   "execution_count": 7,
   "id": "16f4ce28-f536-425d-af70-14235da38319",
   "metadata": {},
   "outputs": [],
   "source": [
    "import pandas as pd"
   ]
  },
  {
   "cell_type": "code",
   "execution_count": 8,
   "id": "6036eebe-ce8d-4e26-82da-3219e0b93121",
   "metadata": {},
   "outputs": [],
   "source": [
    "restaurants = pd.read_csv(\"DOHMH_New_York_City_Restaurant_Inspection_Results.csv\")"
   ]
  },
  {
   "cell_type": "code",
   "execution_count": 11,
   "id": "af7f18fc-9940-4431-b3a1-21e1aa1cfc94",
   "metadata": {},
   "outputs": [
    {
     "data": {
      "text/plain": [
       "301760"
      ]
     },
     "execution_count": 11,
     "metadata": {},
     "output_type": "execute_result"
    }
   ],
   "source": [
    "restaurants.DBA.count()"
   ]
  },
  {
   "cell_type": "code",
   "execution_count": 12,
   "id": "95e9a888-ae87-497a-88b9-7692eb19ff88",
   "metadata": {},
   "outputs": [
    {
     "data": {
      "text/plain": [
       "151652"
      ]
     },
     "execution_count": 12,
     "metadata": {},
     "output_type": "execute_result"
    }
   ],
   "source": [
    "restaurants.GRADE.count()"
   ]
  },
  {
   "cell_type": "code",
   "execution_count": 15,
   "id": "4e8ff54e-e5cb-4791-a19f-e5457946fe18",
   "metadata": {},
   "outputs": [
    {
     "data": {
      "text/html": [
       "<div>\n",
       "<style scoped>\n",
       "    .dataframe tbody tr th:only-of-type {\n",
       "        vertical-align: middle;\n",
       "    }\n",
       "\n",
       "    .dataframe tbody tr th {\n",
       "        vertical-align: top;\n",
       "    }\n",
       "\n",
       "    .dataframe thead th {\n",
       "        text-align: right;\n",
       "    }\n",
       "</style>\n",
       "<table border=\"1\" class=\"dataframe\">\n",
       "  <thead>\n",
       "    <tr style=\"text-align: right;\">\n",
       "      <th></th>\n",
       "      <th>index</th>\n",
       "      <th>GRADE</th>\n",
       "    </tr>\n",
       "  </thead>\n",
       "  <tbody>\n",
       "    <tr>\n",
       "      <th>0</th>\n",
       "      <td>A</td>\n",
       "      <td>117150</td>\n",
       "    </tr>\n",
       "    <tr>\n",
       "      <th>1</th>\n",
       "      <td>B</td>\n",
       "      <td>17465</td>\n",
       "    </tr>\n",
       "    <tr>\n",
       "      <th>2</th>\n",
       "      <td>C</td>\n",
       "      <td>7311</td>\n",
       "    </tr>\n",
       "    <tr>\n",
       "      <th>3</th>\n",
       "      <td>N</td>\n",
       "      <td>5188</td>\n",
       "    </tr>\n",
       "    <tr>\n",
       "      <th>4</th>\n",
       "      <td>Z</td>\n",
       "      <td>2827</td>\n",
       "    </tr>\n",
       "    <tr>\n",
       "      <th>5</th>\n",
       "      <td>P</td>\n",
       "      <td>1710</td>\n",
       "    </tr>\n",
       "    <tr>\n",
       "      <th>6</th>\n",
       "      <td>G</td>\n",
       "      <td>1</td>\n",
       "    </tr>\n",
       "  </tbody>\n",
       "</table>\n",
       "</div>"
      ],
      "text/plain": [
       "  index   GRADE\n",
       "0     A  117150\n",
       "1     B   17465\n",
       "2     C    7311\n",
       "3     N    5188\n",
       "4     Z    2827\n",
       "5     P    1710\n",
       "6     G       1"
      ]
     },
     "execution_count": 15,
     "metadata": {},
     "output_type": "execute_result"
    }
   ],
   "source": [
    "restaurants.GRADE.value_counts().reset_index()"
   ]
  },
  {
   "cell_type": "code",
   "execution_count": 24,
   "id": "d4075086-aa28-4c42-9de3-0b740b40ac2d",
   "metadata": {},
   "outputs": [],
   "source": [
    "MY_GRADE = \"A\"\n",
    "\n",
    "a_grade_rest = restaurants[restaurants.GRADE == \"A\"]\n",
    "b_grade_rest = restaurants[restaurants.GRADE == \"B\"]\n",
    "c_grade_rest = restaurants[restaurants.GRADE == \"C\"]"
   ]
  },
  {
   "cell_type": "code",
   "execution_count": 19,
   "id": "5107a0c8-3d71-4755-84de-5810410a0d9f",
   "metadata": {},
   "outputs": [
    {
     "data": {
      "text/plain": [
       "Manhattan        45869\n",
       "Brooklyn         28530\n",
       "Queens           27456\n",
       "Bronx            11058\n",
       "Staten Island     4206\n",
       "0                   31\n",
       "Name: BORO, dtype: int64"
      ]
     },
     "execution_count": 19,
     "metadata": {},
     "output_type": "execute_result"
    }
   ],
   "source": [
    "a_grade_rest.BORO.value_counts()"
   ]
  },
  {
   "cell_type": "code",
   "execution_count": 25,
   "id": "c5c56a60-6a90-4ed5-9e36-ea7d37faa885",
   "metadata": {},
   "outputs": [
    {
     "data": {
      "text/plain": [
       "Manhattan        6398\n",
       "Brooklyn         4241\n",
       "Queens           4164\n",
       "Bronx            2172\n",
       "Staten Island     487\n",
       "0                   3\n",
       "Name: BORO, dtype: int64"
      ]
     },
     "execution_count": 25,
     "metadata": {},
     "output_type": "execute_result"
    }
   ],
   "source": [
    "b_grade_rest.BORO.value_counts()"
   ]
  },
  {
   "cell_type": "code",
   "execution_count": 26,
   "id": "e6cdf41c-7b2b-48d5-911b-e85708ec0317",
   "metadata": {},
   "outputs": [
    {
     "data": {
      "text/plain": [
       "American      25147\n",
       "Chinese       10919\n",
       "Coffee/Tea     7194\n",
       "Pizza          6981\n",
       "Italian        4992\n",
       "              ...  \n",
       "Basque            6\n",
       "Lebanese          5\n",
       "Chilean           3\n",
       "New French        3\n",
       "Armenian          1\n",
       "Name: CUISINE DESCRIPTION, Length: 87, dtype: int64"
      ]
     },
     "execution_count": 26,
     "metadata": {},
     "output_type": "execute_result"
    }
   ],
   "source": [
    "a_grade_rest[\"CUISINE DESCRIPTION\"].value_counts()"
   ]
  },
  {
   "cell_type": "code",
   "execution_count": 27,
   "id": "37d91c8c-34bb-4a44-bdc0-fa2c9f4dc106",
   "metadata": {},
   "outputs": [
    {
     "data": {
      "text/plain": [
       "9.966419120785318"
      ]
     },
     "execution_count": 27,
     "metadata": {},
     "output_type": "execute_result"
    }
   ],
   "source": [
    "a_grade_rest.SCORE.mean()"
   ]
  },
  {
   "cell_type": "code",
   "execution_count": 28,
   "id": "0735e460-76c1-4af5-a2ca-ad90ea47cdb5",
   "metadata": {},
   "outputs": [
    {
     "data": {
      "text/plain": [
       "20.976524477526482"
      ]
     },
     "execution_count": 28,
     "metadata": {},
     "output_type": "execute_result"
    }
   ],
   "source": [
    "b_grade_rest.SCORE.mean()"
   ]
  },
  {
   "cell_type": "code",
   "execution_count": 29,
   "id": "6eea9d9d-fbf0-4cfb-a3a0-3fbcc4624298",
   "metadata": {},
   "outputs": [
    {
     "data": {
      "text/plain": [
       "37.87908630830256"
      ]
     },
     "execution_count": 29,
     "metadata": {},
     "output_type": "execute_result"
    }
   ],
   "source": [
    "c_grade_rest.SCORE.mean()"
   ]
  },
  {
   "cell_type": "code",
   "execution_count": null,
   "id": "baee5bf5-34ca-4bcd-ab6d-4de63581d3b2",
   "metadata": {},
   "outputs": [],
   "source": []
  }
 ],
 "metadata": {
  "kernelspec": {
   "display_name": "Python 3 (ipykernel)",
   "language": "python",
   "name": "python3"
  },
  "language_info": {
   "codemirror_mode": {
    "name": "ipython",
    "version": 3
   },
   "file_extension": ".py",
   "mimetype": "text/x-python",
   "name": "python",
   "nbconvert_exporter": "python",
   "pygments_lexer": "ipython3",
   "version": "3.10.1"
  }
 },
 "nbformat": 4,
 "nbformat_minor": 5
}
